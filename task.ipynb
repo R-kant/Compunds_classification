{
 "cells": [
  {
   "cell_type": "code",
   "execution_count": 1,
   "metadata": {},
   "outputs": [],
   "source": [
    "import numpy as np\n",
    "import pandas as pd"
   ]
  },
  {
   "cell_type": "code",
   "execution_count": 2,
   "metadata": {},
   "outputs": [],
   "source": [
    "data = pd.read_csv('downloads/musk_csv.csv')"
   ]
  },
  {
   "cell_type": "code",
   "execution_count": 3,
   "metadata": {},
   "outputs": [
    {
     "data": {
      "text/html": [
       "<div>\n",
       "<style scoped>\n",
       "    .dataframe tbody tr th:only-of-type {\n",
       "        vertical-align: middle;\n",
       "    }\n",
       "\n",
       "    .dataframe tbody tr th {\n",
       "        vertical-align: top;\n",
       "    }\n",
       "\n",
       "    .dataframe thead th {\n",
       "        text-align: right;\n",
       "    }\n",
       "</style>\n",
       "<table border=\"1\" class=\"dataframe\">\n",
       "  <thead>\n",
       "    <tr style=\"text-align: right;\">\n",
       "      <th></th>\n",
       "      <th>ID</th>\n",
       "      <th>molecule_name</th>\n",
       "      <th>conformation_name</th>\n",
       "      <th>f1</th>\n",
       "      <th>f2</th>\n",
       "      <th>f3</th>\n",
       "      <th>f4</th>\n",
       "      <th>f5</th>\n",
       "      <th>f6</th>\n",
       "      <th>f7</th>\n",
       "      <th>...</th>\n",
       "      <th>f158</th>\n",
       "      <th>f159</th>\n",
       "      <th>f160</th>\n",
       "      <th>f161</th>\n",
       "      <th>f162</th>\n",
       "      <th>f163</th>\n",
       "      <th>f164</th>\n",
       "      <th>f165</th>\n",
       "      <th>f166</th>\n",
       "      <th>class</th>\n",
       "    </tr>\n",
       "  </thead>\n",
       "  <tbody>\n",
       "    <tr>\n",
       "      <th>0</th>\n",
       "      <td>1</td>\n",
       "      <td>MUSK-211</td>\n",
       "      <td>211_1+1</td>\n",
       "      <td>46</td>\n",
       "      <td>-108</td>\n",
       "      <td>-60</td>\n",
       "      <td>-69</td>\n",
       "      <td>-117</td>\n",
       "      <td>49</td>\n",
       "      <td>38</td>\n",
       "      <td>...</td>\n",
       "      <td>-308</td>\n",
       "      <td>52</td>\n",
       "      <td>-7</td>\n",
       "      <td>39</td>\n",
       "      <td>126</td>\n",
       "      <td>156</td>\n",
       "      <td>-50</td>\n",
       "      <td>-112</td>\n",
       "      <td>96</td>\n",
       "      <td>1</td>\n",
       "    </tr>\n",
       "    <tr>\n",
       "      <th>1</th>\n",
       "      <td>2</td>\n",
       "      <td>MUSK-211</td>\n",
       "      <td>211_1+10</td>\n",
       "      <td>41</td>\n",
       "      <td>-188</td>\n",
       "      <td>-145</td>\n",
       "      <td>22</td>\n",
       "      <td>-117</td>\n",
       "      <td>-6</td>\n",
       "      <td>57</td>\n",
       "      <td>...</td>\n",
       "      <td>-59</td>\n",
       "      <td>-2</td>\n",
       "      <td>52</td>\n",
       "      <td>103</td>\n",
       "      <td>136</td>\n",
       "      <td>169</td>\n",
       "      <td>-61</td>\n",
       "      <td>-136</td>\n",
       "      <td>79</td>\n",
       "      <td>1</td>\n",
       "    </tr>\n",
       "    <tr>\n",
       "      <th>2</th>\n",
       "      <td>3</td>\n",
       "      <td>MUSK-211</td>\n",
       "      <td>211_1+11</td>\n",
       "      <td>46</td>\n",
       "      <td>-194</td>\n",
       "      <td>-145</td>\n",
       "      <td>28</td>\n",
       "      <td>-117</td>\n",
       "      <td>73</td>\n",
       "      <td>57</td>\n",
       "      <td>...</td>\n",
       "      <td>-134</td>\n",
       "      <td>-154</td>\n",
       "      <td>57</td>\n",
       "      <td>143</td>\n",
       "      <td>142</td>\n",
       "      <td>165</td>\n",
       "      <td>-67</td>\n",
       "      <td>-145</td>\n",
       "      <td>39</td>\n",
       "      <td>1</td>\n",
       "    </tr>\n",
       "    <tr>\n",
       "      <th>3</th>\n",
       "      <td>4</td>\n",
       "      <td>MUSK-211</td>\n",
       "      <td>211_1+12</td>\n",
       "      <td>41</td>\n",
       "      <td>-188</td>\n",
       "      <td>-145</td>\n",
       "      <td>22</td>\n",
       "      <td>-117</td>\n",
       "      <td>-7</td>\n",
       "      <td>57</td>\n",
       "      <td>...</td>\n",
       "      <td>-60</td>\n",
       "      <td>-4</td>\n",
       "      <td>52</td>\n",
       "      <td>104</td>\n",
       "      <td>136</td>\n",
       "      <td>168</td>\n",
       "      <td>-60</td>\n",
       "      <td>-135</td>\n",
       "      <td>80</td>\n",
       "      <td>1</td>\n",
       "    </tr>\n",
       "    <tr>\n",
       "      <th>4</th>\n",
       "      <td>5</td>\n",
       "      <td>MUSK-211</td>\n",
       "      <td>211_1+13</td>\n",
       "      <td>41</td>\n",
       "      <td>-188</td>\n",
       "      <td>-145</td>\n",
       "      <td>22</td>\n",
       "      <td>-117</td>\n",
       "      <td>-7</td>\n",
       "      <td>57</td>\n",
       "      <td>...</td>\n",
       "      <td>-60</td>\n",
       "      <td>-4</td>\n",
       "      <td>52</td>\n",
       "      <td>104</td>\n",
       "      <td>137</td>\n",
       "      <td>168</td>\n",
       "      <td>-60</td>\n",
       "      <td>-135</td>\n",
       "      <td>80</td>\n",
       "      <td>1</td>\n",
       "    </tr>\n",
       "  </tbody>\n",
       "</table>\n",
       "<p>5 rows × 170 columns</p>\n",
       "</div>"
      ],
      "text/plain": [
       "   ID molecule_name conformation_name  f1   f2   f3  f4   f5  f6  f7  ...  \\\n",
       "0   1      MUSK-211           211_1+1  46 -108  -60 -69 -117  49  38  ...   \n",
       "1   2      MUSK-211          211_1+10  41 -188 -145  22 -117  -6  57  ...   \n",
       "2   3      MUSK-211          211_1+11  46 -194 -145  28 -117  73  57  ...   \n",
       "3   4      MUSK-211          211_1+12  41 -188 -145  22 -117  -7  57  ...   \n",
       "4   5      MUSK-211          211_1+13  41 -188 -145  22 -117  -7  57  ...   \n",
       "\n",
       "   f158  f159  f160  f161  f162  f163  f164  f165  f166  class  \n",
       "0  -308    52    -7    39   126   156   -50  -112    96      1  \n",
       "1   -59    -2    52   103   136   169   -61  -136    79      1  \n",
       "2  -134  -154    57   143   142   165   -67  -145    39      1  \n",
       "3   -60    -4    52   104   136   168   -60  -135    80      1  \n",
       "4   -60    -4    52   104   137   168   -60  -135    80      1  \n",
       "\n",
       "[5 rows x 170 columns]"
      ]
     },
     "execution_count": 3,
     "metadata": {},
     "output_type": "execute_result"
    }
   ],
   "source": [
    "data.head()"
   ]
  },
  {
   "cell_type": "code",
   "execution_count": 4,
   "metadata": {},
   "outputs": [
    {
     "data": {
      "text/html": [
       "<div>\n",
       "<style scoped>\n",
       "    .dataframe tbody tr th:only-of-type {\n",
       "        vertical-align: middle;\n",
       "    }\n",
       "\n",
       "    .dataframe tbody tr th {\n",
       "        vertical-align: top;\n",
       "    }\n",
       "\n",
       "    .dataframe thead th {\n",
       "        text-align: right;\n",
       "    }\n",
       "</style>\n",
       "<table border=\"1\" class=\"dataframe\">\n",
       "  <thead>\n",
       "    <tr style=\"text-align: right;\">\n",
       "      <th></th>\n",
       "      <th>ID</th>\n",
       "      <th>molecule_name</th>\n",
       "      <th>conformation_name</th>\n",
       "      <th>f1</th>\n",
       "      <th>f2</th>\n",
       "      <th>f3</th>\n",
       "      <th>f4</th>\n",
       "      <th>f5</th>\n",
       "      <th>f6</th>\n",
       "      <th>f7</th>\n",
       "      <th>...</th>\n",
       "      <th>f158</th>\n",
       "      <th>f159</th>\n",
       "      <th>f160</th>\n",
       "      <th>f161</th>\n",
       "      <th>f162</th>\n",
       "      <th>f163</th>\n",
       "      <th>f164</th>\n",
       "      <th>f165</th>\n",
       "      <th>f166</th>\n",
       "      <th>class</th>\n",
       "    </tr>\n",
       "  </thead>\n",
       "  <tbody>\n",
       "    <tr>\n",
       "      <th>6593</th>\n",
       "      <td>6594</td>\n",
       "      <td>NON-MUSK-jp13</td>\n",
       "      <td>jp13_2+5</td>\n",
       "      <td>51</td>\n",
       "      <td>-123</td>\n",
       "      <td>-23</td>\n",
       "      <td>-108</td>\n",
       "      <td>-117</td>\n",
       "      <td>134</td>\n",
       "      <td>-160</td>\n",
       "      <td>...</td>\n",
       "      <td>-66</td>\n",
       "      <td>164</td>\n",
       "      <td>-14</td>\n",
       "      <td>-29</td>\n",
       "      <td>107</td>\n",
       "      <td>171</td>\n",
       "      <td>-44</td>\n",
       "      <td>-115</td>\n",
       "      <td>118</td>\n",
       "      <td>0</td>\n",
       "    </tr>\n",
       "    <tr>\n",
       "      <th>6594</th>\n",
       "      <td>6595</td>\n",
       "      <td>NON-MUSK-jp13</td>\n",
       "      <td>jp13_2+6</td>\n",
       "      <td>44</td>\n",
       "      <td>-104</td>\n",
       "      <td>-19</td>\n",
       "      <td>-105</td>\n",
       "      <td>-117</td>\n",
       "      <td>142</td>\n",
       "      <td>-165</td>\n",
       "      <td>...</td>\n",
       "      <td>-51</td>\n",
       "      <td>166</td>\n",
       "      <td>-9</td>\n",
       "      <td>150</td>\n",
       "      <td>129</td>\n",
       "      <td>158</td>\n",
       "      <td>-66</td>\n",
       "      <td>-144</td>\n",
       "      <td>-5</td>\n",
       "      <td>0</td>\n",
       "    </tr>\n",
       "    <tr>\n",
       "      <th>6595</th>\n",
       "      <td>6596</td>\n",
       "      <td>NON-MUSK-jp13</td>\n",
       "      <td>jp13_2+7</td>\n",
       "      <td>44</td>\n",
       "      <td>-102</td>\n",
       "      <td>-19</td>\n",
       "      <td>-104</td>\n",
       "      <td>-117</td>\n",
       "      <td>72</td>\n",
       "      <td>-165</td>\n",
       "      <td>...</td>\n",
       "      <td>90</td>\n",
       "      <td>117</td>\n",
       "      <td>-8</td>\n",
       "      <td>150</td>\n",
       "      <td>130</td>\n",
       "      <td>159</td>\n",
       "      <td>-66</td>\n",
       "      <td>-144</td>\n",
       "      <td>-6</td>\n",
       "      <td>0</td>\n",
       "    </tr>\n",
       "    <tr>\n",
       "      <th>6596</th>\n",
       "      <td>6597</td>\n",
       "      <td>NON-MUSK-jp13</td>\n",
       "      <td>jp13_2+8</td>\n",
       "      <td>51</td>\n",
       "      <td>-121</td>\n",
       "      <td>-23</td>\n",
       "      <td>-106</td>\n",
       "      <td>-117</td>\n",
       "      <td>63</td>\n",
       "      <td>-161</td>\n",
       "      <td>...</td>\n",
       "      <td>86</td>\n",
       "      <td>99</td>\n",
       "      <td>-14</td>\n",
       "      <td>-31</td>\n",
       "      <td>106</td>\n",
       "      <td>171</td>\n",
       "      <td>-44</td>\n",
       "      <td>-116</td>\n",
       "      <td>117</td>\n",
       "      <td>0</td>\n",
       "    </tr>\n",
       "    <tr>\n",
       "      <th>6597</th>\n",
       "      <td>6598</td>\n",
       "      <td>NON-MUSK-jp13</td>\n",
       "      <td>jp13_2+9</td>\n",
       "      <td>51</td>\n",
       "      <td>-122</td>\n",
       "      <td>-23</td>\n",
       "      <td>-106</td>\n",
       "      <td>-117</td>\n",
       "      <td>190</td>\n",
       "      <td>-161</td>\n",
       "      <td>...</td>\n",
       "      <td>40</td>\n",
       "      <td>124</td>\n",
       "      <td>-14</td>\n",
       "      <td>-30</td>\n",
       "      <td>107</td>\n",
       "      <td>171</td>\n",
       "      <td>-44</td>\n",
       "      <td>-115</td>\n",
       "      <td>118</td>\n",
       "      <td>0</td>\n",
       "    </tr>\n",
       "  </tbody>\n",
       "</table>\n",
       "<p>5 rows × 170 columns</p>\n",
       "</div>"
      ],
      "text/plain": [
       "        ID  molecule_name conformation_name  f1   f2  f3   f4   f5   f6   f7  \\\n",
       "6593  6594  NON-MUSK-jp13          jp13_2+5  51 -123 -23 -108 -117  134 -160   \n",
       "6594  6595  NON-MUSK-jp13          jp13_2+6  44 -104 -19 -105 -117  142 -165   \n",
       "6595  6596  NON-MUSK-jp13          jp13_2+7  44 -102 -19 -104 -117   72 -165   \n",
       "6596  6597  NON-MUSK-jp13          jp13_2+8  51 -121 -23 -106 -117   63 -161   \n",
       "6597  6598  NON-MUSK-jp13          jp13_2+9  51 -122 -23 -106 -117  190 -161   \n",
       "\n",
       "      ...  f158  f159  f160  f161  f162  f163  f164  f165  f166  class  \n",
       "6593  ...   -66   164   -14   -29   107   171   -44  -115   118      0  \n",
       "6594  ...   -51   166    -9   150   129   158   -66  -144    -5      0  \n",
       "6595  ...    90   117    -8   150   130   159   -66  -144    -6      0  \n",
       "6596  ...    86    99   -14   -31   106   171   -44  -116   117      0  \n",
       "6597  ...    40   124   -14   -30   107   171   -44  -115   118      0  \n",
       "\n",
       "[5 rows x 170 columns]"
      ]
     },
     "execution_count": 4,
     "metadata": {},
     "output_type": "execute_result"
    }
   ],
   "source": [
    "data.tail()"
   ]
  },
  {
   "cell_type": "code",
   "execution_count": 5,
   "metadata": {},
   "outputs": [],
   "source": [
    "data_np = data.values"
   ]
  },
  {
   "cell_type": "code",
   "execution_count": 6,
   "metadata": {},
   "outputs": [
    {
     "data": {
      "text/plain": [
       "array([[1, 'MUSK-211', '211_1+1', ..., -112, 96, 1],\n",
       "       [2, 'MUSK-211', '211_1+10', ..., -136, 79, 1],\n",
       "       [3, 'MUSK-211', '211_1+11', ..., -145, 39, 1],\n",
       "       ...,\n",
       "       [6596, 'NON-MUSK-jp13', 'jp13_2+7', ..., -144, -6, 0],\n",
       "       [6597, 'NON-MUSK-jp13', 'jp13_2+8', ..., -116, 117, 0],\n",
       "       [6598, 'NON-MUSK-jp13', 'jp13_2+9', ..., -115, 118, 0]],\n",
       "      dtype=object)"
      ]
     },
     "execution_count": 6,
     "metadata": {},
     "output_type": "execute_result"
    }
   ],
   "source": [
    "data_np"
   ]
  },
  {
   "cell_type": "code",
   "execution_count": 7,
   "metadata": {},
   "outputs": [],
   "source": [
    "np.random.shuffle(data_np)"
   ]
  },
  {
   "cell_type": "code",
   "execution_count": 8,
   "metadata": {},
   "outputs": [],
   "source": [
    "X = data_np[:, 3:-1]"
   ]
  },
  {
   "cell_type": "code",
   "execution_count": 9,
   "metadata": {},
   "outputs": [
    {
     "data": {
      "text/plain": [
       "(6598, 166)"
      ]
     },
     "execution_count": 9,
     "metadata": {},
     "output_type": "execute_result"
    }
   ],
   "source": [
    "X.shape"
   ]
  },
  {
   "cell_type": "code",
   "execution_count": 10,
   "metadata": {},
   "outputs": [
    {
     "data": {
      "text/plain": [
       "(6598, 170)"
      ]
     },
     "execution_count": 10,
     "metadata": {},
     "output_type": "execute_result"
    }
   ],
   "source": [
    "data.shape"
   ]
  },
  {
   "cell_type": "code",
   "execution_count": 11,
   "metadata": {},
   "outputs": [],
   "source": [
    "y = data_np[:, -1]"
   ]
  },
  {
   "cell_type": "code",
   "execution_count": 12,
   "metadata": {},
   "outputs": [
    {
     "data": {
      "text/plain": [
       "(6598,)"
      ]
     },
     "execution_count": 12,
     "metadata": {},
     "output_type": "execute_result"
    }
   ],
   "source": [
    "y.shape"
   ]
  },
  {
   "cell_type": "code",
   "execution_count": 13,
   "metadata": {},
   "outputs": [
    {
     "data": {
      "text/plain": [
       "array([0, 0, 0, ..., 0, 1, 0], dtype=object)"
      ]
     },
     "execution_count": 13,
     "metadata": {},
     "output_type": "execute_result"
    }
   ],
   "source": [
    "y"
   ]
  },
  {
   "cell_type": "code",
   "execution_count": 14,
   "metadata": {},
   "outputs": [],
   "source": [
    "# from sklearn.preprocessing import OneHotEncoder"
   ]
  },
  {
   "cell_type": "code",
   "execution_count": 15,
   "metadata": {},
   "outputs": [],
   "source": [
    "# ohe = OneHotEncoder()"
   ]
  },
  {
   "cell_type": "code",
   "execution_count": 16,
   "metadata": {},
   "outputs": [],
   "source": [
    "# y_res= ohe.fit_transform(y.reshape(-1,1)).todense()"
   ]
  },
  {
   "cell_type": "code",
   "execution_count": 17,
   "metadata": {},
   "outputs": [],
   "source": [
    "# y_res.shape"
   ]
  },
  {
   "cell_type": "code",
   "execution_count": 18,
   "metadata": {},
   "outputs": [
    {
     "name": "stderr",
     "output_type": "stream",
     "text": [
      "Using TensorFlow backend.\n"
     ]
    }
   ],
   "source": [
    "from keras.layers import Dense, Dropout\n",
    "from keras.models import Sequential"
   ]
  },
  {
   "cell_type": "code",
   "execution_count": 19,
   "metadata": {},
   "outputs": [],
   "source": [
    "from keras import backend as K\n",
    "\n",
    "def recall_m(y_true, y_pred):\n",
    "        true_positives = K.sum(K.round(K.clip(y_true * y_pred, 0, 1)))\n",
    "        possible_positives = K.sum(K.round(K.clip(y_true, 0, 1)))\n",
    "        recall = true_positives / (possible_positives + K.epsilon())\n",
    "        return recall\n",
    "\n",
    "def precision_m(y_true, y_pred):\n",
    "        true_positives = K.sum(K.round(K.clip(y_true * y_pred, 0, 1)))\n",
    "        predicted_positives = K.sum(K.round(K.clip(y_pred, 0, 1)))\n",
    "        precision = true_positives / (predicted_positives + K.epsilon())\n",
    "        return precision\n",
    "\n",
    "def f1_m(y_true, y_pred):\n",
    "    precision = precision_m(y_true, y_pred)\n",
    "    recall = recall_m(y_true, y_pred)\n",
    "    return 2*((precision*recall)/(precision+recall+K.epsilon()))"
   ]
  },
  {
   "cell_type": "code",
   "execution_count": 20,
   "metadata": {},
   "outputs": [
    {
     "name": "stderr",
     "output_type": "stream",
     "text": [
      "WARNING: Logging before flag parsing goes to stderr.\n",
      "W1214 19:20:52.739090  5248 deprecation_wrapper.py:119] From c:\\users\\inn\\appdata\\local\\programs\\python\\python37\\lib\\site-packages\\keras\\backend\\tensorflow_backend.py:74: The name tf.get_default_graph is deprecated. Please use tf.compat.v1.get_default_graph instead.\n",
      "\n"
     ]
    }
   ],
   "source": [
    "model = Sequential()"
   ]
  },
  {
   "cell_type": "code",
   "execution_count": 21,
   "metadata": {},
   "outputs": [
    {
     "name": "stderr",
     "output_type": "stream",
     "text": [
      "W1214 19:20:53.436606  5248 deprecation_wrapper.py:119] From c:\\users\\inn\\appdata\\local\\programs\\python\\python37\\lib\\site-packages\\keras\\backend\\tensorflow_backend.py:517: The name tf.placeholder is deprecated. Please use tf.compat.v1.placeholder instead.\n",
      "\n",
      "W1214 19:20:53.441603  5248 deprecation_wrapper.py:119] From c:\\users\\inn\\appdata\\local\\programs\\python\\python37\\lib\\site-packages\\keras\\backend\\tensorflow_backend.py:4138: The name tf.random_uniform is deprecated. Please use tf.random.uniform instead.\n",
      "\n"
     ]
    }
   ],
   "source": [
    "model.add(Dense(128, input_dim=X.shape[1], activation='relu'))"
   ]
  },
  {
   "cell_type": "code",
   "execution_count": 22,
   "metadata": {},
   "outputs": [],
   "source": [
    "model.add(Dense(64, activation='relu'))"
   ]
  },
  {
   "cell_type": "code",
   "execution_count": 23,
   "metadata": {},
   "outputs": [
    {
     "name": "stderr",
     "output_type": "stream",
     "text": [
      "W1214 19:20:54.785917  5248 deprecation_wrapper.py:119] From c:\\users\\inn\\appdata\\local\\programs\\python\\python37\\lib\\site-packages\\keras\\backend\\tensorflow_backend.py:133: The name tf.placeholder_with_default is deprecated. Please use tf.compat.v1.placeholder_with_default instead.\n",
      "\n",
      "W1214 19:20:54.800908  5248 deprecation.py:506] From c:\\users\\inn\\appdata\\local\\programs\\python\\python37\\lib\\site-packages\\keras\\backend\\tensorflow_backend.py:3445: calling dropout (from tensorflow.python.ops.nn_ops) with keep_prob is deprecated and will be removed in a future version.\n",
      "Instructions for updating:\n",
      "Please use `rate` instead of `keep_prob`. Rate should be set to `rate = 1 - keep_prob`.\n"
     ]
    }
   ],
   "source": [
    "model.add(Dropout(0.2))"
   ]
  },
  {
   "cell_type": "code",
   "execution_count": 24,
   "metadata": {},
   "outputs": [],
   "source": [
    "# model.add(Dense(64, activation='relu'))"
   ]
  },
  {
   "cell_type": "code",
   "execution_count": 25,
   "metadata": {},
   "outputs": [],
   "source": [
    "# model.add(Dense(24, activation='relu'))"
   ]
  },
  {
   "cell_type": "code",
   "execution_count": 26,
   "metadata": {},
   "outputs": [],
   "source": [
    "model.add(Dense(8, activation = 'relu'))"
   ]
  },
  {
   "cell_type": "code",
   "execution_count": 27,
   "metadata": {},
   "outputs": [],
   "source": [
    "model.add(Dense(1, activation='sigmoid'))"
   ]
  },
  {
   "cell_type": "code",
   "execution_count": 28,
   "metadata": {},
   "outputs": [
    {
     "name": "stderr",
     "output_type": "stream",
     "text": [
      "W1214 19:20:58.497176  5248 deprecation_wrapper.py:119] From c:\\users\\inn\\appdata\\local\\programs\\python\\python37\\lib\\site-packages\\keras\\optimizers.py:790: The name tf.train.Optimizer is deprecated. Please use tf.compat.v1.train.Optimizer instead.\n",
      "\n",
      "W1214 19:20:58.525160  5248 deprecation_wrapper.py:119] From c:\\users\\inn\\appdata\\local\\programs\\python\\python37\\lib\\site-packages\\keras\\backend\\tensorflow_backend.py:3376: The name tf.log is deprecated. Please use tf.math.log instead.\n",
      "\n",
      "W1214 19:20:58.532155  5248 deprecation.py:323] From c:\\users\\inn\\appdata\\local\\programs\\python\\python37\\lib\\site-packages\\tensorflow\\python\\ops\\nn_impl.py:180: add_dispatch_support.<locals>.wrapper (from tensorflow.python.ops.array_ops) is deprecated and will be removed in a future version.\n",
      "Instructions for updating:\n",
      "Use tf.where in 2.0, which has the same broadcast rule as np.where\n"
     ]
    }
   ],
   "source": [
    "model.compile(optimizer='rmsprop', loss='binary_crossentropy', metrics=['acc',f1_m,precision_m, recall_m])"
   ]
  },
  {
   "cell_type": "code",
   "execution_count": 29,
   "metadata": {},
   "outputs": [
    {
     "name": "stdout",
     "output_type": "stream",
     "text": [
      "_________________________________________________________________\n",
      "Layer (type)                 Output Shape              Param #   \n",
      "=================================================================\n",
      "dense_1 (Dense)              (None, 128)               21376     \n",
      "_________________________________________________________________\n",
      "dense_2 (Dense)              (None, 64)                8256      \n",
      "_________________________________________________________________\n",
      "dropout_1 (Dropout)          (None, 64)                0         \n",
      "_________________________________________________________________\n",
      "dense_3 (Dense)              (None, 8)                 520       \n",
      "_________________________________________________________________\n",
      "dense_4 (Dense)              (None, 1)                 9         \n",
      "=================================================================\n",
      "Total params: 30,161\n",
      "Trainable params: 30,161\n",
      "Non-trainable params: 0\n",
      "_________________________________________________________________\n"
     ]
    }
   ],
   "source": [
    "model.summary()"
   ]
  },
  {
   "cell_type": "code",
   "execution_count": 30,
   "metadata": {},
   "outputs": [],
   "source": [
    "from sklearn.model_selection import train_test_split"
   ]
  },
  {
   "cell_type": "code",
   "execution_count": 31,
   "metadata": {},
   "outputs": [],
   "source": [
    "X_train, X_test, y_train, y_test = train_test_split(X, y, test_size=0.2 , random_state=42)"
   ]
  },
  {
   "cell_type": "code",
   "execution_count": null,
   "metadata": {},
   "outputs": [],
   "source": []
  },
  {
   "cell_type": "code",
   "execution_count": 32,
   "metadata": {},
   "outputs": [
    {
     "name": "stdout",
     "output_type": "stream",
     "text": [
      "Train on 4222 samples, validate on 1056 samples\n",
      "Epoch 1/100\n",
      "4222/4222 [==============================] - 1s 229us/step - loss: 1.2223 - acc: 0.8361 - f1_m: 0.0240 - precision_m: 0.0528 - recall_m: 0.0195 - val_loss: 0.4236 - val_acc: 0.8390 - val_f1_m: 0.0000e+00 - val_precision_m: 0.0000e+00 - val_recall_m: 0.0000e+00\n",
      "Epoch 2/100\n",
      "4222/4222 [==============================] - 1s 174us/step - loss: 0.4559 - acc: 0.8565 - f1_m: 0.1503 - precision_m: 0.2713 - recall_m: 0.1145 - val_loss: 0.2571 - val_acc: 0.8902 - val_f1_m: 0.4790 - val_precision_m: 0.8222 - val_recall_m: 0.3539\n",
      "Epoch 3/100\n",
      "4222/4222 [==============================] - 1s 120us/step - loss: 0.3478 - acc: 0.8986 - f1_m: 0.5421 - precision_m: 0.7202 - recall_m: 0.4800 - val_loss: 0.2758 - val_acc: 0.9252 - val_f1_m: 0.7229 - val_precision_m: 0.8068 - val_recall_m: 0.6950\n",
      "Epoch 4/100\n",
      "4222/4222 [==============================] - 1s 185us/step - loss: 0.2500 - acc: 0.9166 - f1_m: 0.6896 - precision_m: 0.7476 - recall_m: 0.6889 - val_loss: 0.2103 - val_acc: 0.9479 - val_f1_m: 0.8267 - val_precision_m: 0.8266 - val_recall_m: 0.8723\n",
      "Epoch 5/100\n",
      "4222/4222 [==============================] - 1s 143us/step - loss: 0.2076 - acc: 0.9356 - f1_m: 0.7637 - precision_m: 0.8139 - recall_m: 0.7675 - val_loss: 0.1898 - val_acc: 0.9460 - val_f1_m: 0.8280 - val_precision_m: 0.7930 - val_recall_m: 0.8973\n",
      "Epoch 6/100\n",
      "4222/4222 [==============================] - 1s 209us/step - loss: 0.1952 - acc: 0.9410 - f1_m: 0.7964 - precision_m: 0.8308 - recall_m: 0.8064 - val_loss: 0.3349 - val_acc: 0.9242 - val_f1_m: 0.6729 - val_precision_m: 0.8823 - val_recall_m: 0.5829\n",
      "Epoch 7/100\n",
      "4222/4222 [==============================] - 0s 112us/step - loss: 0.1849 - acc: 0.9517 - f1_m: 0.8125 - precision_m: 0.8471 - recall_m: 0.8222 - val_loss: 0.4265 - val_acc: 0.9583 - val_f1_m: 0.8439 - val_precision_m: 0.8962 - val_recall_m: 0.8294\n",
      "Epoch 8/100\n",
      "4222/4222 [==============================] - 1s 187us/step - loss: 0.1690 - acc: 0.9555 - f1_m: 0.8314 - precision_m: 0.8461 - recall_m: 0.8571 - val_loss: 0.1778 - val_acc: 0.9555 - val_f1_m: 0.8453 - val_precision_m: 0.8409 - val_recall_m: 0.8761\n",
      "Epoch 9/100\n",
      "4222/4222 [==============================] - 0s 114us/step - loss: 0.1895 - acc: 0.9621 - f1_m: 0.8686 - precision_m: 0.8799 - recall_m: 0.8937 - val_loss: 0.1688 - val_acc: 0.9631 - val_f1_m: 0.8707 - val_precision_m: 0.8697 - val_recall_m: 0.9013\n",
      "Epoch 10/100\n",
      "4222/4222 [==============================] - 1s 185us/step - loss: 0.2217 - acc: 0.9614 - f1_m: 0.8486 - precision_m: 0.8602 - recall_m: 0.8710 - val_loss: 0.1639 - val_acc: 0.9688 - val_f1_m: 0.8758 - val_precision_m: 0.9460 - val_recall_m: 0.8525\n",
      "Epoch 11/100\n",
      "4222/4222 [==============================] - 1s 170us/step - loss: 0.1501 - acc: 0.9687 - f1_m: 0.8673 - precision_m: 0.8806 - recall_m: 0.8793 - val_loss: 0.2321 - val_acc: 0.9631 - val_f1_m: 0.8647 - val_precision_m: 0.8671 - val_recall_m: 0.8901\n",
      "Epoch 12/100\n",
      "4222/4222 [==============================] - 1s 156us/step - loss: 0.1462 - acc: 0.9687 - f1_m: 0.8893 - precision_m: 0.9104 - recall_m: 0.8979 - val_loss: 0.1798 - val_acc: 0.9669 - val_f1_m: 0.8771 - val_precision_m: 0.8794 - val_recall_m: 0.8986\n",
      "Epoch 13/100\n",
      "4222/4222 [==============================] - 1s 185us/step - loss: 0.1683 - acc: 0.9697 - f1_m: 0.8974 - precision_m: 0.9096 - recall_m: 0.9080 - val_loss: 0.1465 - val_acc: 0.9602 - val_f1_m: 0.8638 - val_precision_m: 0.8346 - val_recall_m: 0.9211\n",
      "Epoch 14/100\n",
      "4222/4222 [==============================] - 1s 167us/step - loss: 0.1223 - acc: 0.9668 - f1_m: 0.8917 - precision_m: 0.8758 - recall_m: 0.9420 - val_loss: 0.1703 - val_acc: 0.9422 - val_f1_m: 0.8118 - val_precision_m: 0.7749 - val_recall_m: 0.8773\n",
      "Epoch 15/100\n",
      "4222/4222 [==============================] - 1s 134us/step - loss: 0.1171 - acc: 0.9730 - f1_m: 0.9120 - precision_m: 0.9158 - recall_m: 0.9239 - val_loss: 0.1356 - val_acc: 0.9432 - val_f1_m: 0.8298 - val_precision_m: 0.7432 - val_recall_m: 0.9662\n",
      "Epoch 16/100\n",
      "4222/4222 [==============================] - 1s 154us/step - loss: 0.1125 - acc: 0.9754 - f1_m: 0.9123 - precision_m: 0.9274 - recall_m: 0.9199 - val_loss: 0.1646 - val_acc: 0.9669 - val_f1_m: 0.8783 - val_precision_m: 0.8799 - val_recall_m: 0.9030\n",
      "Epoch 17/100\n",
      "4222/4222 [==============================] - 1s 130us/step - loss: 0.1111 - acc: 0.9780 - f1_m: 0.9234 - precision_m: 0.9265 - recall_m: 0.9418 - val_loss: 0.1575 - val_acc: 0.9574 - val_f1_m: 0.8572 - val_precision_m: 0.8095 - val_recall_m: 0.9356\n",
      "Epoch 18/100\n",
      "4222/4222 [==============================] - 1s 160us/step - loss: 0.1017 - acc: 0.9789 - f1_m: 0.9247 - precision_m: 0.9368 - recall_m: 0.9336 - val_loss: 0.1648 - val_acc: 0.9688 - val_f1_m: 0.8774 - val_precision_m: 0.8741 - val_recall_m: 0.9016\n",
      "Epoch 19/100\n",
      "4222/4222 [==============================] - 1s 129us/step - loss: 0.1047 - acc: 0.9789 - f1_m: 0.9195 - precision_m: 0.9229 - recall_m: 0.9321 - val_loss: 0.1217 - val_acc: 0.9744 - val_f1_m: 0.9013 - val_precision_m: 0.9356 - val_recall_m: 0.8983\n",
      "Epoch 20/100\n",
      "4222/4222 [==============================] - 1s 178us/step - loss: 0.0805 - acc: 0.9808 - f1_m: 0.9242 - precision_m: 0.9302 - recall_m: 0.9364 - val_loss: 0.1308 - val_acc: 0.9706 - val_f1_m: 0.8938 - val_precision_m: 0.9011 - val_recall_m: 0.9077\n",
      "Epoch 21/100\n",
      "4222/4222 [==============================] - 1s 132us/step - loss: 0.1426 - acc: 0.9763 - f1_m: 0.9045 - precision_m: 0.9204 - recall_m: 0.9090 - val_loss: 0.1441 - val_acc: 0.9697 - val_f1_m: 0.8887 - val_precision_m: 0.8646 - val_recall_m: 0.9389\n",
      "Epoch 22/100\n",
      "4222/4222 [==============================] - 1s 162us/step - loss: 0.0795 - acc: 0.9853 - f1_m: 0.9417 - precision_m: 0.9461 - recall_m: 0.9514 - val_loss: 0.0974 - val_acc: 0.9744 - val_f1_m: 0.9068 - val_precision_m: 0.9636 - val_recall_m: 0.8761\n",
      "Epoch 23/100\n",
      "4222/4222 [==============================] - 1s 136us/step - loss: 0.0805 - acc: 0.9844 - f1_m: 0.9441 - precision_m: 0.9553 - recall_m: 0.9496 - val_loss: 0.0987 - val_acc: 0.9782 - val_f1_m: 0.9197 - val_precision_m: 0.9262 - val_recall_m: 0.9329\n",
      "Epoch 24/100\n",
      "4222/4222 [==============================] - 1s 163us/step - loss: 0.1123 - acc: 0.9808 - f1_m: 0.9285 - precision_m: 0.9330 - recall_m: 0.9432 - val_loss: 0.1629 - val_acc: 0.9706 - val_f1_m: 0.8893 - val_precision_m: 0.9154 - val_recall_m: 0.8837\n",
      "Epoch 25/100\n",
      "4222/4222 [==============================] - 1s 144us/step - loss: 0.0723 - acc: 0.9863 - f1_m: 0.9430 - precision_m: 0.9494 - recall_m: 0.9536 - val_loss: 0.1597 - val_acc: 0.9678 - val_f1_m: 0.8781 - val_precision_m: 0.9270 - val_recall_m: 0.8687\n",
      "Epoch 26/100\n",
      "4222/4222 [==============================] - ETA: 0s - loss: 0.0604 - acc: 0.9860 - f1_m: 0.9528 - precision_m: 0.9507 - recall_m: 0.969 - 1s 220us/step - loss: 0.0592 - acc: 0.9863 - f1_m: 0.9539 - precision_m: 0.9525 - recall_m: 0.9698 - val_loss: 0.1038 - val_acc: 0.9811 - val_f1_m: 0.9334 - val_precision_m: 0.9309 - val_recall_m: 0.9498\n",
      "Epoch 27/100\n",
      "4222/4222 [==============================] - 1s 232us/step - loss: 0.0617 - acc: 0.9858 - f1_m: 0.9426 - precision_m: 0.9351 - recall_m: 0.9637 - val_loss: 0.1200 - val_acc: 0.9631 - val_f1_m: 0.8820 - val_precision_m: 0.8640 - val_recall_m: 0.9265\n",
      "Epoch 28/100\n",
      "4222/4222 [==============================] - 1s 173us/step - loss: 0.0663 - acc: 0.9848 - f1_m: 0.9433 - precision_m: 0.9391 - recall_m: 0.9603 - val_loss: 0.1002 - val_acc: 0.9792 - val_f1_m: 0.9311 - val_precision_m: 0.9198 - val_recall_m: 0.9558\n",
      "Epoch 29/100\n",
      "4222/4222 [==============================] - 1s 165us/step - loss: 0.0829 - acc: 0.9856 - f1_m: 0.9415 - precision_m: 0.9396 - recall_m: 0.9558 - val_loss: 0.0978 - val_acc: 0.9801 - val_f1_m: 0.9331 - val_precision_m: 0.9525 - val_recall_m: 0.9262\n",
      "Epoch 30/100\n",
      "4222/4222 [==============================] - 1s 156us/step - loss: 0.0442 - acc: 0.9898 - f1_m: 0.9576 - precision_m: 0.9602 - recall_m: 0.9637 - val_loss: 0.3061 - val_acc: 0.9669 - val_f1_m: 0.8920 - val_precision_m: 0.8493 - val_recall_m: 0.9628\n",
      "Epoch 31/100\n",
      "4222/4222 [==============================] - 1s 195us/step - loss: 0.1524 - acc: 0.9827 - f1_m: 0.9339 - precision_m: 0.9675 - recall_m: 0.9243 - val_loss: 0.0976 - val_acc: 0.9867 - val_f1_m: 0.9571 - val_precision_m: 0.9684 - val_recall_m: 0.9535\n"
     ]
    },
    {
     "name": "stdout",
     "output_type": "stream",
     "text": [
      "Epoch 32/100\n",
      "4222/4222 [==============================] - 1s 210us/step - loss: 0.0563 - acc: 0.9884 - f1_m: 0.9555 - precision_m: 0.9581 - recall_m: 0.9601 - val_loss: 0.1341 - val_acc: 0.9754 - val_f1_m: 0.9050 - val_precision_m: 0.9585 - val_recall_m: 0.8719\n",
      "Epoch 33/100\n",
      "4222/4222 [==============================] - 1s 184us/step - loss: 0.0501 - acc: 0.9884 - f1_m: 0.9558 - precision_m: 0.9561 - recall_m: 0.9627 - val_loss: 0.0895 - val_acc: 0.9839 - val_f1_m: 0.9462 - val_precision_m: 0.9392 - val_recall_m: 0.9635\n",
      "Epoch 34/100\n",
      "4222/4222 [==============================] - 1s 164us/step - loss: 0.0777 - acc: 0.9889 - f1_m: 0.9531 - precision_m: 0.9645 - recall_m: 0.9527 - val_loss: 0.1951 - val_acc: 0.9725 - val_f1_m: 0.9020 - val_precision_m: 0.9848 - val_recall_m: 0.8483\n",
      "Epoch 35/100\n",
      "4222/4222 [==============================] - 1s 135us/step - loss: 0.0457 - acc: 0.9905 - f1_m: 0.9698 - precision_m: 0.9759 - recall_m: 0.9712 - val_loss: 0.2029 - val_acc: 0.9669 - val_f1_m: 0.8914 - val_precision_m: 0.8423 - val_recall_m: 0.9701\n",
      "Epoch 36/100\n",
      "4222/4222 [==============================] - 1s 223us/step - loss: 0.0859 - acc: 0.9901 - f1_m: 0.9586 - precision_m: 0.9648 - recall_m: 0.9638 - val_loss: 0.1206 - val_acc: 0.9820 - val_f1_m: 0.9392 - val_precision_m: 0.9609 - val_recall_m: 0.9319\n",
      "Epoch 37/100\n",
      "4222/4222 [==============================] - 1s 171us/step - loss: 0.0844 - acc: 0.9901 - f1_m: 0.9671 - precision_m: 0.9796 - recall_m: 0.9629 - val_loss: 0.0921 - val_acc: 0.9754 - val_f1_m: 0.9223 - val_precision_m: 0.8941 - val_recall_m: 0.9696\n",
      "Epoch 38/100\n",
      "4222/4222 [==============================] - 1s 147us/step - loss: 0.0478 - acc: 0.9901 - f1_m: 0.9657 - precision_m: 0.9669 - recall_m: 0.9722 - val_loss: 0.0906 - val_acc: 0.9848 - val_f1_m: 0.9460 - val_precision_m: 0.9583 - val_recall_m: 0.9447\n",
      "Epoch 39/100\n",
      "4222/4222 [==============================] - 1s 165us/step - loss: 0.0887 - acc: 0.9870 - f1_m: 0.9484 - precision_m: 0.9609 - recall_m: 0.9491 - val_loss: 0.1415 - val_acc: 0.9725 - val_f1_m: 0.9074 - val_precision_m: 0.8926 - val_recall_m: 0.9431\n",
      "Epoch 40/100\n",
      "4222/4222 [==============================] - 1s 148us/step - loss: 0.0678 - acc: 0.9874 - f1_m: 0.9527 - precision_m: 0.9477 - recall_m: 0.9680 - val_loss: 0.1379 - val_acc: 0.9801 - val_f1_m: 0.9356 - val_precision_m: 0.9785 - val_recall_m: 0.9069\n",
      "Epoch 41/100\n",
      "4222/4222 [==============================] - 1s 169us/step - loss: 0.1227 - acc: 0.9827 - f1_m: 0.9380 - precision_m: 0.9583 - recall_m: 0.9353 - val_loss: 0.1912 - val_acc: 0.9782 - val_f1_m: 0.9215 - val_precision_m: 0.9864 - val_recall_m: 0.8766\n",
      "Epoch 42/100\n",
      "4222/4222 [==============================] - 1s 147us/step - loss: 0.0818 - acc: 0.9908 - f1_m: 0.9625 - precision_m: 0.9791 - recall_m: 0.9533 - val_loss: 0.2690 - val_acc: 0.9754 - val_f1_m: 0.9124 - val_precision_m: 0.9924 - val_recall_m: 0.8631\n",
      "Epoch 43/100\n",
      "4222/4222 [==============================] - 1s 169us/step - loss: 0.1757 - acc: 0.9806 - f1_m: 0.9193 - precision_m: 0.9518 - recall_m: 0.9072 - val_loss: 0.1884 - val_acc: 0.9820 - val_f1_m: 0.9360 - val_precision_m: 0.9475 - val_recall_m: 0.9344\n",
      "Epoch 44/100\n",
      "4222/4222 [==============================] - 1s 152us/step - loss: 0.1511 - acc: 0.9860 - f1_m: 0.9494 - precision_m: 0.9546 - recall_m: 0.9563 - val_loss: 0.3778 - val_acc: 0.9697 - val_f1_m: 0.8889 - val_precision_m: 0.8900 - val_recall_m: 0.9115\n",
      "Epoch 45/100\n",
      "4222/4222 [==============================] - 1s 167us/step - loss: 0.2144 - acc: 0.9827 - f1_m: 0.9393 - precision_m: 0.9611 - recall_m: 0.9347 - val_loss: 0.3675 - val_acc: 0.9650 - val_f1_m: 0.8879 - val_precision_m: 0.8462 - val_recall_m: 0.9558\n",
      "Epoch 46/100\n",
      "4222/4222 [==============================] - 1s 157us/step - loss: 0.1271 - acc: 0.9858 - f1_m: 0.9364 - precision_m: 0.9374 - recall_m: 0.9470 - val_loss: 0.2850 - val_acc: 0.9697 - val_f1_m: 0.8995 - val_precision_m: 0.9284 - val_recall_m: 0.8960\n",
      "Epoch 47/100\n",
      "4222/4222 [==============================] - 1s 172us/step - loss: 0.0793 - acc: 0.9872 - f1_m: 0.9560 - precision_m: 0.9504 - recall_m: 0.9731 - val_loss: 0.1270 - val_acc: 0.9801 - val_f1_m: 0.9301 - val_precision_m: 0.9483 - val_recall_m: 0.9278\n",
      "Epoch 48/100\n",
      "4222/4222 [==============================] - 1s 153us/step - loss: 0.0619 - acc: 0.9915 - f1_m: 0.9627 - precision_m: 0.9664 - recall_m: 0.9666 - val_loss: 0.1674 - val_acc: 0.9754 - val_f1_m: 0.9107 - val_precision_m: 0.9241 - val_recall_m: 0.9190\n",
      "Epoch 49/100\n",
      "4222/4222 [==============================] - 1s 169us/step - loss: 0.0870 - acc: 0.9903 - f1_m: 0.9655 - precision_m: 0.9743 - recall_m: 0.9666 - val_loss: 0.5561 - val_acc: 0.9583 - val_f1_m: 0.8205 - val_precision_m: 0.9654 - val_recall_m: 0.7308\n",
      "Epoch 50/100\n",
      "4222/4222 [==============================] - 1s 191us/step - loss: 0.1523 - acc: 0.9841 - f1_m: 0.9485 - precision_m: 0.9510 - recall_m: 0.9653 - val_loss: 0.0766 - val_acc: 0.9858 - val_f1_m: 0.9454 - val_precision_m: 0.9508 - val_recall_m: 0.9514\n",
      "Epoch 51/100\n",
      "4222/4222 [==============================] - 1s 151us/step - loss: 0.0163 - acc: 0.9955 - f1_m: 0.9701 - precision_m: 0.9689 - recall_m: 0.9750 - val_loss: 0.1594 - val_acc: 0.9697 - val_f1_m: 0.9063 - val_precision_m: 0.8511 - val_recall_m: 0.9830\n",
      "Epoch 52/100\n",
      "4222/4222 [==============================] - 1s 178us/step - loss: 0.0645 - acc: 0.9910 - f1_m: 0.9673 - precision_m: 0.9752 - recall_m: 0.9692 - val_loss: 0.1203 - val_acc: 0.9820 - val_f1_m: 0.9369 - val_precision_m: 0.9798 - val_recall_m: 0.9120\n",
      "Epoch 53/100\n",
      "4222/4222 [==============================] - 1s 145us/step - loss: 0.0382 - acc: 0.9927 - f1_m: 0.9655 - precision_m: 0.9640 - recall_m: 0.9746 - val_loss: 0.0978 - val_acc: 0.9811 - val_f1_m: 0.9348 - val_precision_m: 0.9638 - val_recall_m: 0.9201\n",
      "Epoch 54/100\n",
      "4222/4222 [==============================] - 1s 164us/step - loss: 0.0399 - acc: 0.9927 - f1_m: 0.9724 - precision_m: 0.9725 - recall_m: 0.9804 - val_loss: 0.1253 - val_acc: 0.9792 - val_f1_m: 0.9336 - val_precision_m: 0.9173 - val_recall_m: 0.9616\n",
      "Epoch 55/100\n",
      "4222/4222 [==============================] - 1s 155us/step - loss: 0.1049 - acc: 0.9910 - f1_m: 0.9558 - precision_m: 0.9709 - recall_m: 0.9482 - val_loss: 0.2332 - val_acc: 0.9839 - val_f1_m: 0.9390 - val_precision_m: 0.9848 - val_recall_m: 0.9124\n",
      "Epoch 56/100\n",
      "4222/4222 [==============================] - 1s 167us/step - loss: 0.0916 - acc: 0.9882 - f1_m: 0.9584 - precision_m: 0.9521 - recall_m: 0.9757 - val_loss: 0.0857 - val_acc: 0.9877 - val_f1_m: 0.9590 - val_precision_m: 0.9710 - val_recall_m: 0.9558\n",
      "Epoch 57/100\n",
      "4222/4222 [==============================] - 1s 201us/step - loss: 0.0321 - acc: 0.9941 - f1_m: 0.9748 - precision_m: 0.9687 - recall_m: 0.9849 - val_loss: 0.0883 - val_acc: 0.9858 - val_f1_m: 0.9525 - val_precision_m: 0.9623 - val_recall_m: 0.9541\n",
      "Epoch 58/100\n",
      "4222/4222 [==============================] - 1s 173us/step - loss: 0.0800 - acc: 0.9910 - f1_m: 0.9620 - precision_m: 0.9753 - recall_m: 0.9605 - val_loss: 0.1230 - val_acc: 0.9848 - val_f1_m: 0.9498 - val_precision_m: 0.9449 - val_recall_m: 0.9602\n",
      "Epoch 59/100\n",
      "4222/4222 [==============================] - 1s 134us/step - loss: 0.0538 - acc: 0.9915 - f1_m: 0.9727 - precision_m: 0.9718 - recall_m: 0.9806 - val_loss: 0.1416 - val_acc: 0.9830 - val_f1_m: 0.9418 - val_precision_m: 0.9420 - val_recall_m: 0.9534\n",
      "Epoch 60/100\n",
      "4222/4222 [==============================] - 1s 156us/step - loss: 0.0434 - acc: 0.9922 - f1_m: 0.9595 - precision_m: 0.9619 - recall_m: 0.9636 - val_loss: 0.0777 - val_acc: 0.9792 - val_f1_m: 0.9310 - val_precision_m: 0.9110 - val_recall_m: 0.9618\n",
      "Epoch 61/100\n",
      "4222/4222 [==============================] - 1s 145us/step - loss: 0.0560 - acc: 0.9908 - f1_m: 0.9718 - precision_m: 0.9754 - recall_m: 0.9748 - val_loss: 0.1408 - val_acc: 0.9830 - val_f1_m: 0.9419 - val_precision_m: 0.9565 - val_recall_m: 0.9403\n",
      "Epoch 62/100\n",
      "4222/4222 [==============================] - 1s 174us/step - loss: 0.0729 - acc: 0.9912 - f1_m: 0.9674 - precision_m: 0.9773 - recall_m: 0.9682 - val_loss: 0.2016 - val_acc: 0.9820 - val_f1_m: 0.9446 - val_precision_m: 0.9919 - val_recall_m: 0.9108\n",
      "Epoch 63/100\n"
     ]
    },
    {
     "name": "stdout",
     "output_type": "stream",
     "text": [
      "4222/4222 [==============================] - 1s 161us/step - loss: 0.0751 - acc: 0.9910 - f1_m: 0.9683 - precision_m: 0.9692 - recall_m: 0.9772 - val_loss: 0.1405 - val_acc: 0.9801 - val_f1_m: 0.9256 - val_precision_m: 0.9613 - val_recall_m: 0.9064\n",
      "Epoch 64/100\n",
      "4222/4222 [==============================] - 1s 137us/step - loss: 0.0807 - acc: 0.9901 - f1_m: 0.9644 - precision_m: 0.9667 - recall_m: 0.9738 - val_loss: 0.1272 - val_acc: 0.9820 - val_f1_m: 0.9419 - val_precision_m: 0.9301 - val_recall_m: 0.9635\n",
      "Epoch 65/100\n",
      "4222/4222 [==============================] - 1s 125us/step - loss: 0.0981 - acc: 0.9898 - f1_m: 0.9643 - precision_m: 0.9610 - recall_m: 0.9740 - val_loss: 0.4028 - val_acc: 0.9659 - val_f1_m: 0.8975 - val_precision_m: 0.8521 - val_recall_m: 0.9652\n",
      "Epoch 66/100\n",
      "4222/4222 [==============================] - 1s 140us/step - loss: 0.0910 - acc: 0.9910 - f1_m: 0.9655 - precision_m: 0.9698 - recall_m: 0.9707 - val_loss: 0.1542 - val_acc: 0.9839 - val_f1_m: 0.9451 - val_precision_m: 0.9565 - val_recall_m: 0.9457\n",
      "Epoch 67/100\n",
      "4222/4222 [==============================] - 1s 122us/step - loss: 0.0906 - acc: 0.9922 - f1_m: 0.9683 - precision_m: 0.9807 - recall_m: 0.9664 - val_loss: 0.1626 - val_acc: 0.9830 - val_f1_m: 0.9475 - val_precision_m: 0.9801 - val_recall_m: 0.9251\n",
      "Epoch 68/100\n",
      "4222/4222 [==============================] - 1s 158us/step - loss: 0.1615 - acc: 0.9865 - f1_m: 0.9372 - precision_m: 0.9665 - recall_m: 0.9258 - val_loss: 0.3027 - val_acc: 0.9763 - val_f1_m: 0.9172 - val_precision_m: 0.9879 - val_recall_m: 0.8670\n",
      "Epoch 69/100\n",
      "4222/4222 [==============================] - 1s 155us/step - loss: 0.0686 - acc: 0.9927 - f1_m: 0.9612 - precision_m: 0.9671 - recall_m: 0.9604 - val_loss: 0.1320 - val_acc: 0.9867 - val_f1_m: 0.9573 - val_precision_m: 0.9962 - val_recall_m: 0.9278\n",
      "Epoch 70/100\n",
      "4222/4222 [==============================] - 1s 212us/step - loss: 0.0555 - acc: 0.9919 - f1_m: 0.9572 - precision_m: 0.9537 - recall_m: 0.9678 - val_loss: 0.1892 - val_acc: 0.9773 - val_f1_m: 0.9196 - val_precision_m: 0.9136 - val_recall_m: 0.9332\n",
      "Epoch 71/100\n",
      "4222/4222 [==============================] - 1s 204us/step - loss: 0.0754 - acc: 0.9941 - f1_m: 0.9814 - precision_m: 0.9780 - recall_m: 0.9898 - val_loss: 0.3809 - val_acc: 0.9763 - val_f1_m: 0.9039 - val_precision_m: 0.9689 - val_recall_m: 0.8652\n",
      "Epoch 72/100\n",
      "4222/4222 [==============================] - 1s 134us/step - loss: 0.2148 - acc: 0.9846 - f1_m: 0.9512 - precision_m: 0.9639 - recall_m: 0.9514 - val_loss: 0.3306 - val_acc: 0.9735 - val_f1_m: 0.9000 - val_precision_m: 0.9598 - val_recall_m: 0.8617\n",
      "Epoch 73/100\n",
      "4222/4222 [==============================] - 1s 135us/step - loss: 0.1220 - acc: 0.9886 - f1_m: 0.9472 - precision_m: 0.9543 - recall_m: 0.9542 - val_loss: 0.1110 - val_acc: 0.9858 - val_f1_m: 0.9509 - val_precision_m: 0.9649 - val_recall_m: 0.9474\n",
      "Epoch 74/100\n",
      "4222/4222 [==============================] - 1s 133us/step - loss: 0.0822 - acc: 0.9917 - f1_m: 0.9701 - precision_m: 0.9686 - recall_m: 0.9826 - val_loss: 0.2859 - val_acc: 0.9792 - val_f1_m: 0.9214 - val_precision_m: 0.9889 - val_recall_m: 0.8808\n",
      "Epoch 75/100\n",
      "4222/4222 [==============================] - 1s 126us/step - loss: 0.1205 - acc: 0.9889 - f1_m: 0.9561 - precision_m: 0.9708 - recall_m: 0.9562 - val_loss: 0.2332 - val_acc: 0.9782 - val_f1_m: 0.9289 - val_precision_m: 0.9555 - val_recall_m: 0.9168\n",
      "Epoch 76/100\n",
      "4222/4222 [==============================] - 1s 148us/step - loss: 0.0824 - acc: 0.9910 - f1_m: 0.9562 - precision_m: 0.9693 - recall_m: 0.9534 - val_loss: 0.1682 - val_acc: 0.9811 - val_f1_m: 0.9317 - val_precision_m: 0.9523 - val_recall_m: 0.9278\n",
      "Epoch 77/100\n",
      "4222/4222 [==============================] - 1s 124us/step - loss: 0.0815 - acc: 0.9919 - f1_m: 0.9641 - precision_m: 0.9679 - recall_m: 0.9685 - val_loss: 0.1762 - val_acc: 0.9763 - val_f1_m: 0.9282 - val_precision_m: 0.9124 - val_recall_m: 0.9628\n",
      "Epoch 78/100\n",
      "4222/4222 [==============================] - 1s 161us/step - loss: 0.1251 - acc: 0.9882 - f1_m: 0.9627 - precision_m: 0.9733 - recall_m: 0.9612 - val_loss: 0.2237 - val_acc: 0.9792 - val_f1_m: 0.9329 - val_precision_m: 0.9381 - val_recall_m: 0.9387\n",
      "Epoch 79/100\n",
      "4222/4222 [==============================] - 1s 141us/step - loss: 0.0697 - acc: 0.9891 - f1_m: 0.9634 - precision_m: 0.9647 - recall_m: 0.9714 - val_loss: 0.2218 - val_acc: 0.9801 - val_f1_m: 0.9261 - val_precision_m: 0.9798 - val_recall_m: 0.8905\n",
      "Epoch 80/100\n",
      "4222/4222 [==============================] - 1s 152us/step - loss: 0.0726 - acc: 0.9901 - f1_m: 0.9644 - precision_m: 0.9659 - recall_m: 0.9732 - val_loss: 0.1375 - val_acc: 0.9848 - val_f1_m: 0.9480 - val_precision_m: 0.9677 - val_recall_m: 0.9379\n",
      "Epoch 81/100\n",
      "4222/4222 [==============================] - 1s 124us/step - loss: 0.0572 - acc: 0.9919 - f1_m: 0.9671 - precision_m: 0.9637 - recall_m: 0.9778 - val_loss: 0.1771 - val_acc: 0.9858 - val_f1_m: 0.9538 - val_precision_m: 0.9836 - val_recall_m: 0.9346\n",
      "Epoch 82/100\n",
      "4222/4222 [==============================] - 1s 134us/step - loss: 0.0657 - acc: 0.9915 - f1_m: 0.9739 - precision_m: 0.9744 - recall_m: 0.9792 - val_loss: 0.1213 - val_acc: 0.9839 - val_f1_m: 0.9382 - val_precision_m: 0.9672 - val_recall_m: 0.9185\n",
      "Epoch 83/100\n",
      "4222/4222 [==============================] - 1s 129us/step - loss: 0.0409 - acc: 0.9950 - f1_m: 0.9754 - precision_m: 0.9727 - recall_m: 0.9826 - val_loss: 0.1387 - val_acc: 0.9830 - val_f1_m: 0.9462 - val_precision_m: 0.9962 - val_recall_m: 0.9118\n",
      "Epoch 84/100\n",
      "4222/4222 [==============================] - 1s 148us/step - loss: 0.0405 - acc: 0.9941 - f1_m: 0.9811 - precision_m: 0.9865 - recall_m: 0.9800 - val_loss: 0.2786 - val_acc: 0.9782 - val_f1_m: 0.9228 - val_precision_m: 0.9092 - val_recall_m: 0.9551\n",
      "Epoch 85/100\n",
      "4222/4222 [==============================] - 1s 126us/step - loss: 0.0708 - acc: 0.9929 - f1_m: 0.9677 - precision_m: 0.9613 - recall_m: 0.9795 - val_loss: 0.1410 - val_acc: 0.9867 - val_f1_m: 0.9581 - val_precision_m: 0.9734 - val_recall_m: 0.9525\n",
      "Epoch 86/100\n",
      "4222/4222 [==============================] - 1s 135us/step - loss: 0.0388 - acc: 0.9946 - f1_m: 0.9687 - precision_m: 0.9670 - recall_m: 0.9741 - val_loss: 0.1144 - val_acc: 0.9848 - val_f1_m: 0.9495 - val_precision_m: 0.9364 - val_recall_m: 0.9729\n",
      "Epoch 87/100\n",
      "4222/4222 [==============================] - 1s 131us/step - loss: 0.0420 - acc: 0.9936 - f1_m: 0.9796 - precision_m: 0.9726 - recall_m: 0.9932 - val_loss: 0.1343 - val_acc: 0.9858 - val_f1_m: 0.9547 - val_precision_m: 0.9749 - val_recall_m: 0.9440\n",
      "Epoch 88/100\n",
      "4222/4222 [==============================] - 1s 148us/step - loss: 0.0339 - acc: 0.9929 - f1_m: 0.9785 - precision_m: 0.9805 - recall_m: 0.9825 - val_loss: 0.1267 - val_acc: 0.9830 - val_f1_m: 0.9499 - val_precision_m: 0.9827 - val_recall_m: 0.9279\n",
      "Epoch 89/100\n",
      "4222/4222 [==============================] - 1s 149us/step - loss: 0.0208 - acc: 0.9967 - f1_m: 0.9807 - precision_m: 0.9852 - recall_m: 0.9789 - val_loss: 0.1805 - val_acc: 0.9848 - val_f1_m: 0.9501 - val_precision_m: 0.9710 - val_recall_m: 0.9397\n",
      "Epoch 90/100\n",
      "4222/4222 [==============================] - 1s 124us/step - loss: 0.0454 - acc: 0.9943 - f1_m: 0.9725 - precision_m: 0.9760 - recall_m: 0.9743 - val_loss: 0.2177 - val_acc: 0.9839 - val_f1_m: 0.9408 - val_precision_m: 0.9724 - val_recall_m: 0.9245\n",
      "Epoch 91/100\n",
      "4222/4222 [==============================] - 1s 148us/step - loss: 0.0514 - acc: 0.9936 - f1_m: 0.9734 - precision_m: 0.9686 - recall_m: 0.9867 - val_loss: 0.0900 - val_acc: 0.9905 - val_f1_m: 0.9681 - val_precision_m: 0.9861 - val_recall_m: 0.9567\n",
      "Epoch 92/100\n",
      "4222/4222 [==============================] - 0s 118us/step - loss: 0.0548 - acc: 0.9931 - f1_m: 0.9720 - precision_m: 0.9755 - recall_m: 0.9739 - val_loss: 0.0988 - val_acc: 0.9886 - val_f1_m: 0.9620 - val_precision_m: 0.9949 - val_recall_m: 0.9370\n",
      "Epoch 93/100\n",
      "4222/4222 [==============================] - 1s 157us/step - loss: 0.0530 - acc: 0.9948 - f1_m: 0.9827 - precision_m: 0.9919 - recall_m: 0.9771 - val_loss: 0.1463 - val_acc: 0.9839 - val_f1_m: 0.9505 - val_precision_m: 0.9717 - val_recall_m: 0.9389\n",
      "Epoch 94/100\n"
     ]
    },
    {
     "name": "stdout",
     "output_type": "stream",
     "text": [
      "4222/4222 [==============================] - 1s 138us/step - loss: 0.0325 - acc: 0.9953 - f1_m: 0.9819 - precision_m: 0.9838 - recall_m: 0.9853 - val_loss: 0.1307 - val_acc: 0.9858 - val_f1_m: 0.9477 - val_precision_m: 0.9861 - val_recall_m: 0.9228\n",
      "Epoch 95/100\n",
      "4222/4222 [==============================] - 1s 138us/step - loss: 0.0455 - acc: 0.9938 - f1_m: 0.9736 - precision_m: 0.9802 - recall_m: 0.9711 - val_loss: 0.1600 - val_acc: 0.9811 - val_f1_m: 0.9317 - val_precision_m: 0.9674 - val_recall_m: 0.9144\n",
      "Epoch 96/100\n",
      "4222/4222 [==============================] - 0s 115us/step - loss: 0.0748 - acc: 0.9919 - f1_m: 0.9460 - precision_m: 0.9517 - recall_m: 0.9483 - val_loss: 0.1101 - val_acc: 0.9830 - val_f1_m: 0.9442 - val_precision_m: 0.9176 - val_recall_m: 0.9790\n",
      "Epoch 97/100\n",
      "4222/4222 [==============================] - 1s 157us/step - loss: 0.0198 - acc: 0.9972 - f1_m: 0.9835 - precision_m: 0.9818 - recall_m: 0.9871 - val_loss: 0.0852 - val_acc: 0.9886 - val_f1_m: 0.9602 - val_precision_m: 0.9641 - val_recall_m: 0.9635\n",
      "Epoch 98/100\n",
      "4222/4222 [==============================] - 1s 141us/step - loss: 0.0272 - acc: 0.9969 - f1_m: 0.9759 - precision_m: 0.9761 - recall_m: 0.9775 - val_loss: 0.1439 - val_acc: 0.9848 - val_f1_m: 0.9529 - val_precision_m: 0.9912 - val_recall_m: 0.9252\n",
      "Epoch 99/100\n",
      "4222/4222 [==============================] - 1s 229us/step - loss: 0.0516 - acc: 0.9962 - f1_m: 0.9807 - precision_m: 0.9820 - recall_m: 0.9827 - val_loss: 0.1536 - val_acc: 0.9896 - val_f1_m: 0.9668 - val_precision_m: 0.9962 - val_recall_m: 0.9450\n",
      "Epoch 100/100\n",
      "4222/4222 [==============================] - 1s 263us/step - loss: 0.1186 - acc: 0.9924 - f1_m: 0.9724 - precision_m: 0.9807 - recall_m: 0.9684 - val_loss: 0.2704 - val_acc: 0.9830 - val_f1_m: 0.9379 - val_precision_m: 1.0000 - val_recall_m: 0.8956\n"
     ]
    }
   ],
   "source": [
    "hist = model.fit(X_train, y_train, epochs=100, batch_size=32, validation_split=0.2)"
   ]
  },
  {
   "cell_type": "code",
   "execution_count": null,
   "metadata": {},
   "outputs": [],
   "source": []
  },
  {
   "cell_type": "code",
   "execution_count": null,
   "metadata": {},
   "outputs": [],
   "source": [
    "X.shape[1]"
   ]
  },
  {
   "cell_type": "code",
   "execution_count": null,
   "metadata": {},
   "outputs": [],
   "source": [
    "data_np"
   ]
  },
  {
   "cell_type": "code",
   "execution_count": null,
   "metadata": {},
   "outputs": [],
   "source": [
    "y"
   ]
  },
  {
   "cell_type": "code",
   "execution_count": null,
   "metadata": {},
   "outputs": [],
   "source": [
    "model.predict(X[1,:].reshape(1, -1))"
   ]
  },
  {
   "cell_type": "code",
   "execution_count": null,
   "metadata": {},
   "outputs": [],
   "source": [
    "X[1, :].shape"
   ]
  },
  {
   "cell_type": "code",
   "execution_count": 33,
   "metadata": {},
   "outputs": [],
   "source": [
    "import matplotlib.pyplot as plt"
   ]
  },
  {
   "cell_type": "markdown",
   "metadata": {},
   "source": [
    "## Model Accuracy (Training and Validation)"
   ]
  },
  {
   "cell_type": "code",
   "execution_count": 34,
   "metadata": {},
   "outputs": [
    {
     "name": "stdout",
     "output_type": "stream",
     "text": [
      "dict_keys(['val_loss', 'val_acc', 'val_f1_m', 'val_precision_m', 'val_recall_m', 'loss', 'acc', 'f1_m', 'precision_m', 'recall_m'])\n"
     ]
    },
    {
     "data": {
      "image/png": "[encoded data removed]",
      "text/plain": [
       "<Figure size 432x288 with 1 Axes>"
      ]
     },
     "metadata": {
      "needs_background": "light"
     },
     "output_type": "display_data"
    }
   ],
   "source": [
    "print(hist.history.keys())\n",
    "#  \"Accuracy\"\n",
    "plt.plot(hist.history['acc'])\n",
    "plt.plot(hist.history['val_acc'])\n",
    "plt.title('model accuracy')\n",
    "plt.ylabel('accuracy')\n",
    "plt.xlabel('epoch')\n",
    "plt.legend(['train', 'validation'], loc='upper left')\n",
    "plt.show()"
   ]
  },
  {
   "cell_type": "markdown",
   "metadata": {},
   "source": [
    "## Model Loss (Training and Validation)"
   ]
  },
  {
   "cell_type": "code",
   "execution_count": 35,
   "metadata": {},
   "outputs": [
    {
     "data": {
      "image/png": "[encoded data removed]",
      "text/plain": [
       "<Figure size 432x288 with 1 Axes>"
      ]
     },
     "metadata": {
      "needs_background": "light"
     },
     "output_type": "display_data"
    }
   ],
   "source": [
    "# \"Loss\"\n",
    "plt.plot(hist.history['loss'])\n",
    "plt.plot(hist.history['val_loss'])\n",
    "plt.title('model loss')\n",
    "plt.ylabel('loss')\n",
    "plt.xlabel('epoch')\n",
    "plt.legend(['train', 'validation'], loc='upper left')\n",
    "plt.show()"
   ]
  },
  {
   "cell_type": "markdown",
   "metadata": {},
   "source": [
    "## Final Performance measures"
   ]
  },
  {
   "cell_type": "code",
   "execution_count": 37,
   "metadata": {},
   "outputs": [],
   "source": [
    "loss, accuracy, f1_score, precision, recall = model.evaluate(X_test, y_test, verbose=0)"
   ]
  },
  {
   "cell_type": "markdown",
   "metadata": {},
   "source": [
    "# Loss"
   ]
  },
  {
   "cell_type": "code",
   "execution_count": 47,
   "metadata": {},
   "outputs": [
    {
     "name": "stdout",
     "output_type": "stream",
     "text": [
      "Test set Loss 0.3415097875676717\n"
     ]
    }
   ],
   "source": [
    "print(\"Test set Loss\", loss)"
   ]
  },
  {
   "cell_type": "markdown",
   "metadata": {},
   "source": [
    "# Accuracy"
   ]
  },
  {
   "cell_type": "code",
   "execution_count": 43,
   "metadata": {},
   "outputs": [
    {
     "name": "stdout",
     "output_type": "stream",
     "text": [
      "Test set Accuracy 0.9787878787878788\n"
     ]
    }
   ],
   "source": [
    "print(\"Test set Accuracy\", accuracy)"
   ]
  },
  {
   "cell_type": "markdown",
   "metadata": {},
   "source": [
    "# Precision"
   ]
  },
  {
   "cell_type": "code",
   "execution_count": 44,
   "metadata": {},
   "outputs": [
    {
     "name": "stdout",
     "output_type": "stream",
     "text": [
      "0.984377104585821\n"
     ]
    }
   ],
   "source": [
    "print(precision)"
   ]
  },
  {
   "cell_type": "markdown",
   "metadata": {},
   "source": [
    "# Recall"
   ]
  },
  {
   "cell_type": "code",
   "execution_count": 45,
   "metadata": {},
   "outputs": [
    {
     "name": "stdout",
     "output_type": "stream",
     "text": [
      "0.875257336732113\n"
     ]
    }
   ],
   "source": [
    "print(recall)"
   ]
  },
  {
   "cell_type": "markdown",
   "metadata": {},
   "source": [
    "# F1 Score"
   ]
  },
  {
   "cell_type": "code",
   "execution_count": 46,
   "metadata": {},
   "outputs": [
    {
     "name": "stdout",
     "output_type": "stream",
     "text": [
      "0.9189887339418584\n"
     ]
    }
   ],
   "source": [
    "print(f1_score)"
   ]
  },
  {
   "cell_type": "code",
   "execution_count": 48,
   "metadata": {},
   "outputs": [],
   "source": [
    "model.save('downloads/task_model.h5')"
   ]
  },
  {
   "cell_type": "code",
   "execution_count": null,
   "metadata": {},
   "outputs": [],
   "source": []
  }
 ],
 "metadata": {
  "kernelspec": {
   "display_name": "Python 3",
   "language": "python",
   "name": "python3"
  },
  "language_info": {
   "codemirror_mode": {
    "name": "ipython",
    "version": 3
   },
   "file_extension": ".py",
   "mimetype": "text/x-python",
   "name": "python",
   "nbconvert_exporter": "python",
   "pygments_lexer": "ipython3",
   "version": "3.7.3"
  }
 },
 "nbformat": 4,
 "nbformat_minor": 2
}
